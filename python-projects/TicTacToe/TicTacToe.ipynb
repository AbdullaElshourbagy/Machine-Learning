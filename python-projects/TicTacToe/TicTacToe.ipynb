{
 "cells": [
  {
   "cell_type": "markdown",
   "metadata": {
    "id": "aAjb_hDyTKQh"
   },
   "source": [
    "# Tic Tac Toe Game \n",
    "##### Scratch Building\n",
    "##### No GUI Required "
   ]
  },
  {
   "cell_type": "code",
   "execution_count": null,
   "metadata": {
    "id": "oA2mUBhSHdgl"
   },
   "outputs": [],
   "source": []
  },
  {
   "cell_type": "markdown",
   "metadata": {
    "id": "NG1KZg4sTKQj"
   },
   "source": [
    "#### Some suggested tools before you get started:\n",
    "To take input from a user:\n",
    "\n",
    "    player1 = input(\"Please pick a marker 'X' or 'O'\")\n",
    "    \n",
    "Note that input() takes in a string. If you need an integer value, use\n",
    "\n",
    "    position = int(input('Please enter a number'))\n",
    "    \n",
    "<br>To clear the screen between moves:\n",
    "\n",
    "    from IPython.display import clear_output\n",
    "    clear_output()\n",
    "    \n",
    "Note that clear_output() will only work in jupyter. To clear the screen in other IDEs, consider:\n",
    "\n",
    "    print('\\n'*100)\n",
    "    \n",
    "This scrolls the previous board up out of view. Now on to the program!"
   ]
  },
  {
   "cell_type": "markdown",
   "metadata": {
    "id": "eq31aKoKTKQk"
   },
   "source": [
    "**Step 1: Write a function that can print out a board. Set up your board as a list, where each index 1-9 corresponds with a number on a number pad, so you get a 3 by 3 board representation.**"
   ]
  },
  {
   "cell_type": "code",
   "execution_count": 24,
   "metadata": {
    "id": "v6oZEXZXTKQl"
   },
   "outputs": [],
   "source": [
    "from IPython.display import clear_output\n",
    "\n",
    "def display_board(board):\n",
    "    print (board[0],'l',board[1],'l',board[2])\n",
    "    print('------------')\n",
    "    print (board[3],'l',board[4],'l',board[5])\n",
    "    print('------------')\n",
    "    print (board[6],'l',board[7],'l',board[8])\n",
    "    print('------------')"
   ]
  },
  {
   "cell_type": "markdown",
   "metadata": {
    "id": "YE-nz_ETTKQo"
   },
   "source": [
    "**TEST Step 1:** run your function on a test version of the board list, and make adjustments as necessary"
   ]
  },
  {
   "cell_type": "code",
   "execution_count": 25,
   "metadata": {
    "colab": {
     "base_uri": "https://localhost:8080/",
     "height": 121
    },
    "id": "4iQ9D-u5TKQp",
    "outputId": "59ff7cb4-7211-4d99-f8bf-2ca4167db697"
   },
   "outputs": [
    {
     "name": "stdout",
     "output_type": "stream",
     "text": [
      "X l O l X\n",
      "------------\n",
      "O l X l O\n",
      "------------\n",
      "X l O l X\n",
      "------------\n"
     ]
    }
   ],
   "source": [
    "test_board = ['X','O','X','O','X','O','X','O','X']\n",
    "display_board(test_board)"
   ]
  },
  {
   "cell_type": "markdown",
   "metadata": {
    "id": "WxeUw0FhTKQr"
   },
   "source": [
    "**Step 2: Write a function that can take in a player input and assign their marker as 'X' or 'O'. Think about using *while* loops to continually ask until you get a correct answer.**"
   ]
  },
  {
   "cell_type": "code",
   "execution_count": 26,
   "metadata": {
    "id": "MG0XC4aXTKQs"
   },
   "outputs": [],
   "source": [
    "def player_input():\n",
    "    marker=input('Enter Your X or O:')\n",
    "    while not (marker.lower()=='x' or marker.lower()=='o'):\n",
    "        marker=input('Enter Your X or O:')\n",
    "    if marker.lower()=='x':\n",
    "        return 'X','O'\n",
    "    else:\n",
    "        return 'O','X'"
   ]
  },
  {
   "cell_type": "markdown",
   "metadata": {
    "id": "6fVimbgzTKQu"
   },
   "source": [
    "**TEST Step 2:** run the function to make sure it returns the desired output"
   ]
  },
  {
   "cell_type": "code",
   "execution_count": 27,
   "metadata": {
    "id": "PJSO5QX1TKQu"
   },
   "outputs": [
    {
     "name": "stdout",
     "output_type": "stream",
     "text": [
      "Enter Your X or O:x\n"
     ]
    },
    {
     "data": {
      "text/plain": [
       "('X', 'O')"
      ]
     },
     "execution_count": 27,
     "metadata": {},
     "output_type": "execute_result"
    }
   ],
   "source": [
    "player_input()"
   ]
  },
  {
   "cell_type": "markdown",
   "metadata": {
    "id": "aQN1q9gGTKQw"
   },
   "source": [
    "**Step 3: Write a function that takes in the board list object, a marker ('X' or 'O'), and a desired position (number 1-9) and assigns it to the board.**"
   ]
  },
  {
   "cell_type": "code",
   "execution_count": 28,
   "metadata": {
    "id": "drK45WDaTKQx"
   },
   "outputs": [],
   "source": [
    "def place_marker(board, marker, position):\n",
    "    board[position]=marker\n",
    "    \n",
    "    pass"
   ]
  },
  {
   "cell_type": "markdown",
   "metadata": {
    "id": "gapk660ATKQz"
   },
   "source": [
    "**TEST Step 3:** run the place marker function using test parameters and display the modified board"
   ]
  },
  {
   "cell_type": "code",
   "execution_count": 29,
   "metadata": {
    "id": "4vIDyBjrTKQ0"
   },
   "outputs": [
    {
     "name": "stdout",
     "output_type": "stream",
     "text": [
      "X l O l X\n",
      "------------\n",
      "O l X l O\n",
      "------------\n",
      "X l O l $\n",
      "------------\n"
     ]
    }
   ],
   "source": [
    "place_marker(test_board,'$',8)\n",
    "display_board(test_board)"
   ]
  },
  {
   "cell_type": "markdown",
   "metadata": {
    "id": "vRuvrYsVTKQ2"
   },
   "source": [
    "**Step 4: Write a function that takes in a board and a mark (X or O) and then checks to see if that mark has won. **"
   ]
  },
  {
   "cell_type": "code",
   "execution_count": 30,
   "metadata": {
    "id": "Zl_L_t1xTKQ2"
   },
   "outputs": [],
   "source": [
    "def win_check(board, mark):\n",
    "    return (board[0] == board[1] == board[2]==mark) or (board[3] == board[4] == board[5]==mark) or (board[6] == board[7] == board[8]==mark) or (board[0] == board[4] == board[8]==mark) or (board[6] == board[4] == board[2]==mark) "
   ]
  },
  {
   "cell_type": "markdown",
   "metadata": {
    "id": "D9tY6vCHTKQ4"
   },
   "source": [
    "**TEST Step 4:** run the win_check function against our test_board - it should return True"
   ]
  },
  {
   "cell_type": "code",
   "execution_count": 31,
   "metadata": {
    "id": "W_rBIIOCTKQ5"
   },
   "outputs": [
    {
     "data": {
      "text/plain": [
       "True"
      ]
     },
     "execution_count": 31,
     "metadata": {},
     "output_type": "execute_result"
    }
   ],
   "source": [
    "win_check(test_board,'X')"
   ]
  },
  {
   "cell_type": "markdown",
   "metadata": {
    "id": "ROj56ItpTKQ7"
   },
   "source": [
    "**Step 5: Write a function that uses the random module to randomly decide which player goes first. You may want to lookup random.randint() Return a string of which player went first.**"
   ]
  },
  {
   "cell_type": "code",
   "execution_count": 32,
   "metadata": {
    "id": "NMgrAjU3TKQ7"
   },
   "outputs": [],
   "source": [
    "import random\n",
    "\n",
    "def choose_first():\n",
    "    num = random.randint(0,1)\n",
    "    if num == 0 :\n",
    "        return 'Player_1'\n",
    "    else:\n",
    "        return 'Player_2' "
   ]
  },
  {
   "cell_type": "markdown",
   "metadata": {
    "id": "7H1uXKU-TKQ9"
   },
   "source": [
    "**Step 6: Write a function that returns a boolean indicating whether a space on the board is freely available.**"
   ]
  },
  {
   "cell_type": "code",
   "execution_count": 33,
   "metadata": {
    "id": "i0rtv4b3TKQ-"
   },
   "outputs": [],
   "source": [
    "def space_check(board, position):\n",
    "    return board[position]==' '"
   ]
  },
  {
   "cell_type": "markdown",
   "metadata": {
    "id": "TKfVJE_KTKRA"
   },
   "source": [
    "**Step 7: Write a function that checks if the board is full and returns a boolean value. True if full, False otherwise.**"
   ]
  },
  {
   "cell_type": "code",
   "execution_count": 34,
   "metadata": {
    "id": "Vsa0TroYTKRB"
   },
   "outputs": [],
   "source": [
    "def full_board_check(boaard):\n",
    "    return ' ' not in board"
   ]
  },
  {
   "cell_type": "markdown",
   "metadata": {
    "id": "ju-R3rRATKRD"
   },
   "source": [
    "**Step 8: Write a function that asks for a player's next position (as a number 1-9) and then uses the function from step 6 to check if it's a free position. If it is, then return the position for later use.**"
   ]
  },
  {
   "cell_type": "code",
   "execution_count": 35,
   "metadata": {
    "id": "zLusZVZETKRE"
   },
   "outputs": [],
   "source": [
    "def player_choice(board):\n",
    "    position = int(input('Enter The postion as number from 1 to 9:'))\n",
    "    if position <1 or position >9 :\n",
    "        print(\"Enter Correct Position\")\n",
    "    else:\n",
    "        if space_check(board,position-1):\n",
    "            return position-1\n",
    "        else:\n",
    "             print(\"your position is not free\")"
   ]
  },
  {
   "cell_type": "markdown",
   "metadata": {
    "id": "E9ryWxTdTKRG"
   },
   "source": [
    "**Step 9: Write a function that asks the player if they want to play again and returns a boolean True if they do want to play again.**"
   ]
  },
  {
   "cell_type": "code",
   "execution_count": 36,
   "metadata": {
    "id": "1_Nt3ngsTKRG"
   },
   "outputs": [],
   "source": [
    "def replay():\n",
    "    return input('Do you want to play again? Enter Yes or No: ').lower() == 'y'"
   ]
  },
  {
   "cell_type": "markdown",
   "metadata": {
    "collapsed": true,
    "id": "gjLdHz0MTKRI"
   },
   "source": [
    "**Step 10: Here comes the hard part! Use while loops and the functions you've made to run the game!**"
   ]
  },
  {
   "cell_type": "code",
   "execution_count": 38,
   "metadata": {
    "id": "84vKO9k9TKRJ"
   },
   "outputs": [
    {
     "name": "stdout",
     "output_type": "stream",
     "text": [
      "Welcome to Tic Tac Toe!\n",
      "Enter Your X or O:o\n",
      "Player_2 will go first.\n",
      "Do you want to play ? \n",
      " *** y or n *** y\n",
      "  l   l  \n",
      "------------\n",
      "  l   l  \n",
      "------------\n",
      "  l   l  \n",
      "------------\n",
      "Enter The postion as number from 1 to 9:1\n",
      "X l   l  \n",
      "------------\n",
      "  l   l  \n",
      "------------\n",
      "  l   l  \n",
      "------------\n",
      "Enter The postion as number from 1 to 9:2\n",
      "X l O l  \n",
      "------------\n",
      "  l   l  \n",
      "------------\n",
      "  l   l  \n",
      "------------\n",
      "Enter The postion as number from 1 to 9:3\n",
      "X l O l X\n",
      "------------\n",
      "  l   l  \n",
      "------------\n",
      "  l   l  \n",
      "------------\n",
      "Enter The postion as number from 1 to 9:5\n",
      "X l O l X\n",
      "------------\n",
      "  l O l  \n",
      "------------\n",
      "  l   l  \n",
      "------------\n",
      "Enter The postion as number from 1 to 9:4\n",
      "X l O l X\n",
      "------------\n",
      "X l O l  \n",
      "------------\n",
      "  l   l  \n",
      "------------\n",
      "Enter The postion as number from 1 to 9:6\n",
      "X l O l X\n",
      "------------\n",
      "X l O l O\n",
      "------------\n",
      "  l   l  \n",
      "------------\n",
      "Enter The postion as number from 1 to 9:7\n",
      "X l O l X\n",
      "------------\n",
      "X l O l O\n",
      "------------\n",
      "X l   l  \n",
      "------------\n",
      "Enter The postion as number from 1 to 9:8\n",
      "X l O l X\n",
      "------------\n",
      "X l O l O\n",
      "------------\n",
      "X l O l  \n",
      "------------\n",
      "Enter The postion as number from 1 to 9:9\n",
      "X l O l X\n",
      "------------\n",
      "X l O l O\n",
      "------------\n",
      "X l O l X\n",
      "------------\n",
      "The game is a draw!\n",
      "Do you want to play again? Enter Yes or No: n\n"
     ]
    }
   ],
   "source": [
    "from IPython.display import clear_output\n",
    "import random\n",
    "\n",
    "def display_board(board):\n",
    "    print (board[0],'l',board[1],'l',board[2])\n",
    "    print('------------')\n",
    "    print (board[3],'l',board[4],'l',board[5])\n",
    "    print('------------')\n",
    "    print (board[6],'l',board[7],'l',board[8])\n",
    "    print('------------')\n",
    "\n",
    "def player_input():\n",
    "    marker=input('Enter Your X or O:')\n",
    "    while not (marker.lower()=='x' or marker.lower()=='o'):\n",
    "        marker=input('Enter Your X or O:')\n",
    "    if marker.lower()=='x':\n",
    "        return 'X','O'\n",
    "    else:\n",
    "        return 'O','X'\n",
    "\n",
    "    \n",
    "def place_marker(board, marker, position):\n",
    "    board[position]=marker\n",
    "\n",
    "\n",
    "def win_check(board, mark):\n",
    "    return (board[0] == board[1] == board[2]==mark) or (board[3] == board[4] == board[5]==mark) or (board[6] == board[7] == board[8]==mark) or (board[0] == board[4] == board[8]==mark) or (board[6] == board[4] == board[2]==mark) \n",
    "\n",
    "\n",
    "def choose_first():\n",
    "    num = random.randint(0,1)\n",
    "    if num == 0 :\n",
    "        return 'Player_1'\n",
    "    else:\n",
    "        return 'Player_2' \n",
    "\n",
    "def space_check(board, position):\n",
    "    return board[position]==' '\n",
    "\n",
    "def full_board_check(boaard):\n",
    "    return ' ' not in board\n",
    "\n",
    "def player_choice(board):\n",
    "    position = int(input('Enter The postion as number from 1 to 9:'))\n",
    "    if position <1 or position >9 :\n",
    "        print(\"Enter Correct Position\")\n",
    "    else:\n",
    "        if space_check(board,position-1):\n",
    "            return position-1\n",
    "        else:\n",
    "             print(\"your position is not free\")\n",
    "\n",
    "def replay():\n",
    "    return input('Do you want to play again? Enter Yes or No: ').lower() == 'y'\n",
    "\n",
    "print('Welcome to Tic Tac Toe!')\n",
    "\n",
    "while True:\n",
    "    # Set the game up here\n",
    "    board = [' '] *9\n",
    "    player_marker_1,player_marker_2 = player_input()\n",
    "    #pass\n",
    "    turn = choose_first()\n",
    "    print(turn + \" will go first.\")\n",
    "    game_on = input('Do you want to play ? \\n *** y or n *** ').lower() == 'y'\n",
    "    while game_on:\n",
    "        #Player 1 Turn\n",
    "        if turn =='Player_1':\n",
    "            display_board(board)\n",
    "            position = player_choice(board)\n",
    "            place_marker(board,player_marker_1,position)\n",
    "            if win_check(board,player_marker_1):  \n",
    "                display_board(board)\n",
    "                print('Player 1 has won!')\n",
    "                game_on=False\n",
    "            else:\n",
    "                if full_board_check(board):\n",
    "                    display_board(board)\n",
    "                    print('The game is a draw!')\n",
    "                    break\n",
    "                else:\n",
    "                    turn = 'Player_2'\n",
    "                    \n",
    "        # Player2's turn.\n",
    "        elif turn =='Player_2':\n",
    "            display_board(board)\n",
    "            position = player_choice(board)\n",
    "            place_marker(board,player_marker_2,position)\n",
    "            if win_check(board,player_marker_2):  \n",
    "                display_board(board)\n",
    "                print('Player 2 has won!')\n",
    "                game_on=False\n",
    "            else:\n",
    "                if full_board_check(board):\n",
    "                    display_board(board)\n",
    "                    print('The game is a draw!')\n",
    "                    break\n",
    "                else:\n",
    "                    turn = 'Player_1'\n",
    "            \n",
    "            #pass\n",
    "\n",
    "    if not replay():\n",
    "        break"
   ]
  },
  {
   "cell_type": "markdown",
   "metadata": {
    "collapsed": true,
    "id": "V3AlA00FTKRL"
   },
   "source": [
    "## Good Job!"
   ]
  }
 ],
 "metadata": {
  "colab": {
   "name": "TicTacToe.ipynb",
   "provenance": []
  },
  "kernelspec": {
   "display_name": "Python 3",
   "language": "python",
   "name": "python3"
  },
  "language_info": {
   "codemirror_mode": {
    "name": "ipython",
    "version": 3
   },
   "file_extension": ".py",
   "mimetype": "text/x-python",
   "name": "python",
   "nbconvert_exporter": "python",
   "pygments_lexer": "ipython3",
   "version": "3.8.3"
  }
 },
 "nbformat": 4,
 "nbformat_minor": 1
}
